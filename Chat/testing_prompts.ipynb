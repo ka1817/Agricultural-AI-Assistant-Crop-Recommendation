{
 "cells": [
  {
   "cell_type": "code",
   "execution_count": 1,
   "metadata": {},
   "outputs": [
    {
     "data": {
      "text/plain": [
       "True"
      ]
     },
     "execution_count": 1,
     "metadata": {},
     "output_type": "execute_result"
    }
   ],
   "source": [
    "from dotenv import load_dotenv\n",
    "load_dotenv()"
   ]
  },
  {
   "cell_type": "code",
   "execution_count": 2,
   "metadata": {},
   "outputs": [],
   "source": [
    "from langchain_groq import ChatGroq\n",
    "import os\n",
    "GROQ_API_KEY=os.getenv(\"GROQ_API_KEY\")"
   ]
  },
  {
   "cell_type": "code",
   "execution_count": 3,
   "metadata": {},
   "outputs": [],
   "source": [
    "llm=ChatGroq(model_name=\"gemma2-9b-it\",api_key=GROQ_API_KEY)"
   ]
  },
  {
   "cell_type": "code",
   "execution_count": 4,
   "metadata": {},
   "outputs": [],
   "source": [
    "response=llm.invoke(\"What is Crop Optimization\")"
   ]
  },
  {
   "cell_type": "code",
   "execution_count": 5,
   "metadata": {},
   "outputs": [
    {
     "name": "stdout",
     "output_type": "stream",
     "text": [
      "Crop optimization is a multi-faceted approach aiming to maximize the yield and quality of agricultural produce while minimizing resource use and environmental impact. \n",
      "\n",
      "Here's a breakdown:\n",
      "\n",
      "**Goals of Crop Optimization:**\n",
      "\n",
      "* **Increased Yield:** Producing more crops per unit of land, leading to higher economic returns for farmers.\n",
      "* **Improved Quality:** Enhancing the size, shape, color, taste, and nutritional value of crops.\n",
      "* **Resource Efficiency:** Optimizing the use of water, fertilizers, pesticides, and other inputs, reducing costs and environmental pollution.\n",
      "* **Sustainability:** Promoting environmentally friendly practices that conserve natural resources and protect biodiversity.\n",
      "\n",
      "**Methods Used in Crop Optimization:**\n",
      "\n",
      "Crop optimization leverages a variety of techniques, including:\n",
      "\n",
      "* **Precision Agriculture:** Using technologies like GPS, sensors, and drones to collect data on soil conditions, crop health, and weather patterns. This data is then analyzed to make site-specific decisions about irrigation, fertilization, and pest control.\n",
      "* **Data Analytics:** Analyzing historical yield data, weather patterns, and market trends to identify optimal planting times, crop varieties, and management practices.\n",
      "* **Crop Modeling:** Using mathematical models to simulate crop growth and development under different conditions. These models can help predict yield potential and identify potential risks.\n",
      "* **Genetic Engineering:** Developing crops with improved traits such as resistance to pests, diseases, and drought.\n",
      "* **Integrated Pest Management (IPM):** Implementing a holistic approach to pest control that emphasizes prevention, monitoring, and targeted interventions.\n",
      "* **Conservation Agriculture:** Promoting practices like no-till farming, crop rotation, and cover cropping to improve soil health and reduce erosion.\n",
      "\n",
      "**Benefits of Crop Optimization:**\n",
      "\n",
      "* **Increased profitability for farmers:** Higher yields and reduced input costs can lead to significant economic gains.\n",
      "* **Enhanced food security:** Optimizing crop production can help meet the growing demand for food in a sustainable way.\n",
      "* **Environmental protection:** Reducing resource use and minimizing pollution can contribute to a healthier planet.\n",
      "\n",
      "**Challenges of Crop Optimization:**\n",
      "\n",
      "* **Cost of technology:** Implementing precision agriculture and other advanced technologies can be expensive.\n",
      "* **Data management:** Collecting, storing, and analyzing large amounts of data can be challenging.\n",
      "* **Knowledge gap:** Farmers may need training and support to effectively use new technologies and practices.\n",
      "* **Regulatory hurdles:** Genetic engineering and other innovations may face regulatory challenges.\n",
      "\n",
      "\n",
      "\n",
      "\n",
      "Overall, crop optimization is a promising approach to improving agricultural productivity and sustainability. By combining innovative technologies with sound farming practices, we can create a more efficient, resilient, and environmentally friendly food system.\n",
      "\n"
     ]
    }
   ],
   "source": [
    "print(response.content)"
   ]
  },
  {
   "cell_type": "markdown",
   "metadata": {},
   "source": [
    "Testing Basic Prompts"
   ]
  },
  {
   "cell_type": "code",
   "execution_count": 6,
   "metadata": {},
   "outputs": [],
   "source": [
    "from langchain.prompts import PromptTemplate\n",
    "\n",
    "template = \"\"\"You are an AI farming assistant designed to provide accurate, practical, and easy-to-understand agricultural advice. Your goal is to assist farmers in crop management, pest control, soil health, irrigation techniques, weather forecasting, livestock care, and sustainable farming practices. Always provide region-specific and season-specific recommendations. If a farmer asks about something outside agriculture, politely redirect them back to farming topics.\n",
    "Use simple language and practical solutions tailored for small and large-scale farmers. \n",
    "Maintain a helpful, supportive, and problem-solving tone.\n",
    "    \n",
    "Question: {question}\"\"\"\n",
    "\n",
    "prompt = PromptTemplate(\n",
    "    input_variables=['question'], \n",
    "    template=template  \n",
    ")\n"
   ]
  },
  {
   "cell_type": "code",
   "execution_count": 7,
   "metadata": {},
   "outputs": [
    {
     "name": "stderr",
     "output_type": "stream",
     "text": [
      "C:\\Users\\saipr\\AppData\\Local\\Temp\\ipykernel_23300\\3966671106.py:2: LangChainDeprecationWarning: The class `LLMChain` was deprecated in LangChain 0.1.17 and will be removed in 1.0. Use :meth:`~RunnableSequence, e.g., `prompt | llm`` instead.\n",
      "  llm_chain=LLMChain(llm=llm,prompt=prompt)\n"
     ]
    }
   ],
   "source": [
    "from langchain.chains import LLMChain\n",
    "llm_chain=LLMChain(llm=llm,prompt=prompt)"
   ]
  },
  {
   "cell_type": "code",
   "execution_count": 8,
   "metadata": {},
   "outputs": [],
   "source": [
    "response=llm.invoke(\"What is Crop Optimization\")"
   ]
  },
  {
   "cell_type": "code",
   "execution_count": 9,
   "metadata": {},
   "outputs": [
    {
     "name": "stdout",
     "output_type": "stream",
     "text": [
      "Crop optimization refers to a set of practices and technologies aimed at **maximizing the yield and quality of crops while minimizing the environmental impact and resource consumption**. \n",
      "\n",
      "It's a multi-faceted approach that combines various techniques, including:\n",
      "\n",
      "**1. Precision Agriculture:**\n",
      "\n",
      "* **Data-driven decision making:** Utilizing sensor data, satellite imagery, and weather forecasts to understand specific field conditions and tailor management practices accordingly.\n",
      "* **Variable rate technology:** Applying inputs like fertilizers, pesticides, and water at varying rates across a field based on precise needs identified through data analysis.\n",
      "\n",
      "**2. Crop Management Practices:**\n",
      "\n",
      "* **Optimal planting density:** Determining the ideal number of plants per unit area to maximize sunlight capture and resource utilization.\n",
      "* **Integrated Pest Management (IPM):** Employing a combination of biological, cultural, and chemical methods to control pests and diseases, minimizing reliance on pesticides.\n",
      "* **Nutrient Management:** Utilizing soil tests and crop requirements to optimize fertilizer application, reducing nutrient runoff and promoting soil health.\n",
      "\n",
      "**3. Technological Advancements:**\n",
      "\n",
      "* **Drones and Robotics:** Utilizing drones for aerial imagery, crop monitoring, and targeted spraying, while robots can automate tasks like planting, weeding, and harvesting.\n",
      "* **Artificial Intelligence (AI):** Applying machine learning algorithms to analyze vast amounts of data and predict crop yields, identify disease outbreaks, and optimize irrigation schedules.\n",
      "\n",
      "**4. Sustainable Practices:**\n",
      "\n",
      "* **Conservation tillage:** Minimizing soil disturbance to preserve soil structure, reduce erosion, and enhance water infiltration.\n",
      "* **Crop rotation:** Alternating different crops in a field to break pest cycles, improve soil fertility, and reduce reliance on chemical inputs.\n",
      "\n",
      "**Benefits of Crop Optimization:**\n",
      "\n",
      "* **Increased yield and profitability:** By maximizing resource utilization and minimizing losses, farmers can achieve higher crop yields and increase their income.\n",
      "* **Reduced environmental impact:**  Sustainable practices like precision irrigation and reduced pesticide use minimize water and chemical pollution.\n",
      "* **Enhanced resource efficiency:** Optimizing nutrient and water application reduces waste and promotes responsible resource management.\n",
      "* **Improved food security:** By increasing crop production, crop optimization contributes to global food security and supports a growing population.\n",
      "\n",
      "\n",
      "Overall, crop optimization is a crucial strategy for ensuring sustainable and efficient agricultural practices in the face of growing global food demands and environmental challenges.\n",
      "\n"
     ]
    }
   ],
   "source": [
    "print(response.content)"
   ]
  },
  {
   "cell_type": "markdown",
   "metadata": {},
   "source": [
    "With a well-designed prompt, the LLM:\n",
    "\n",
    "✔ Produces structured, detailed, and farmer-focused answers.\n",
    "\n",
    "✔ Provides practical advice instead of just a theoretical explanation.\n",
    "\n",
    "✔ Makes technology more accessible and actionable.\n",
    "\n",
    "✔ Uses clear, engaging, and farmer-friendly language.\n",
    "\n"
   ]
  },
  {
   "cell_type": "code",
   "execution_count": null,
   "metadata": {},
   "outputs": [
    {
     "name": "stdout",
     "output_type": "stream",
     "text": [
      "📝 AI Response: content=\"That's a great question!  Choosing the best irrigation method for rice farming depends on a few things, like the size of your farm, your soil type, and the amount of water available to you. \\n\\nHere are some popular options:\\n\\n**1. Flood Irrigation:** This is the traditional method, where the entire field is flooded with water. \\n\\n* **Pros:** Relatively simple and inexpensive to set up. \\n* **Cons:** Can waste a lot of water, increase the risk of weed growth, and may not be suitable for all soil types.\\n\\n**2. Alternate Wetting and Drying (AWD):** This method involves flooding the field for a period of time, then allowing it to dry out partially before reflooding.\\n\\n* **Pros:** Saves water compared to flood irrigation, reduces weed growth, and can improve soil health.\\n* **Cons:** Requires more careful monitoring and management.\\n\\n**3. System of Rice Intensification (SRI):** This method uses a combination of techniques, including reduced water use, wider spacing between plants, and the use of seedlings that are already a few weeks old.\\n\\n* **Pros:** Significantly reduces water use, increases yields, and can improve soil fertility.\\n* **Cons:** Requires more labor and time, and may not be suitable for all rice varieties.\\n\\n**4. Sprinkler Irrigation:** This method uses sprinklers to deliver water directly to the rice plants.\\n\\n* **Pros:** More efficient than flood irrigation, can be used on sloped land, and can be automated.\\n* **Cons:** More expensive to set up than flood irrigation, and can be affected by wind.\\n\\n**5. Drip Irrigation:** This method delivers water directly to the roots of the rice plants through a network of tubes.\\n\\n* **Pros:** Most efficient irrigation method, saves water, and can improve yields.\\n* **Cons:** Most expensive to set up, and requires careful maintenance.\\n\\n**To get the best advice for your specific situation, I recommend talking to your local agricultural extension office. They can help you assess your needs and recommend the most suitable irrigation method for your farm.**\\n\\nGood luck with your rice farming! \\n\" additional_kwargs={} response_metadata={'token_usage': {'completion_tokens': 451, 'prompt_tokens': 119, 'total_tokens': 570, 'completion_time': 0.82, 'prompt_time': 0.003625076, 'queue_time': 0.056550666, 'total_time': 0.823625076}, 'model_name': 'gemma2-9b-it', 'system_fingerprint': 'fp_10c08bf97d', 'finish_reason': 'stop', 'logprobs': None} id='run-ce8e13b3-fb33-4602-afd0-c44d5a81501c-0' usage_metadata={'input_tokens': 119, 'output_tokens': 451, 'total_tokens': 570}\n"
     ]
    }
   ],
   "source": [
    "import os\n",
    "from dotenv import load_dotenv\n",
    "from langchain_groq import ChatGroq\n",
    "from langchain.prompts import PromptTemplate\n",
    "\n",
    "load_dotenv()\n",
    "GROQ_API_KEY = os.getenv(\"GROQ_API_KEY\")\n",
    "\n",
    "llm = ChatGroq(model_name=\"gemma2-9b-it\", api_key=GROQ_API_KEY)\n",
    "\n",
    "template = \"\"\"You are an AI farming assistant designed to provide accurate, practical, and easy-to-understand agricultural advice. \n",
    "Your goal is to assist farmers in crop management, pest control, soil health, irrigation techniques, weather forecasting, \n",
    "livestock care, and sustainable farming practices. Always provide region-specific and season-specific recommendations. \n",
    "\n",
    "Use simple language and practical solutions tailored for small and large-scale farmers. Maintain a helpful, supportive, and problem-solving tone.\n",
    "\n",
    "Question: {question}\"\"\"\n",
    "\n",
    "prompt = PromptTemplate(input_variables=['question'], template=template)\n",
    "\n",
    "def agriculture_rag(query):\n",
    "    formatted_prompt = prompt.format(question=query)\n",
    "\n",
    "    response = llm.invoke(formatted_prompt)\n",
    "\n",
    "    return response\n",
    "\n",
    "query = \"What is the best irrigation method for rice farming?\"\n",
    "response = agriculture_rag(query)\n",
    "print(\"📝 AI Response:\", response)\n"
   ]
  },
  {
   "cell_type": "code",
   "execution_count": 18,
   "metadata": {},
   "outputs": [],
   "source": [
    "from langchain.prompts import PromptTemplate\n",
    "\n",
    "agriculture_prompt = PromptTemplate(\n",
    "    input_variables=[\"question\", \"location\", \"crop\", \"season\"],\n",
    "    template=(\n",
    "        \"You are an expert agriculture assistant helping farmers with their queries. \"\n",
    "        \"Provide a detailed yet simple answer for the given question.\\n\\n\"\n",
    "        \"Farmer's Question: {question}\\n\"\n",
    "        \"Location: {location}\\n\"\n",
    "        \"Crop Type: {crop}\\n\"\n",
    "        \"Current Season: {season}\\n\\n\"\n",
    "        \"Answer the question in a way that a farmer with basic knowledge can understand. \"\n",
    "        \"Use practical advice, avoiding overly technical terms unless necessary.\"\n",
    "    )\n",
    ")\n",
    "\n",
    "\n"
   ]
  },
  {
   "cell_type": "code",
   "execution_count": 19,
   "metadata": {},
   "outputs": [],
   "source": [
    "chain=LLMChain(llm=llm,prompt=agriculture_prompt)"
   ]
  },
  {
   "cell_type": "code",
   "execution_count": null,
   "metadata": {},
   "outputs": [
    {
     "name": "stdout",
     "output_type": "stream",
     "text": [
      "Mangu, also known as citrus canker, is a serious disease that can harm your orange trees in Nalgonda's summer heat. Here's what you can do to prevent it:\n",
      "\n",
      "**1. Choose Resistant Varieties:**\n",
      "\n",
      "* Talk to your local agricultural officer or nursery owners about orange varieties that are less susceptible to mangu in your area. \n",
      "\n",
      "**2. Healthy Planting Material:**\n",
      "\n",
      "* **Never** use diseased saplings or cuttings. Buy your plants from reliable nurseries that follow good practices and offer disease-free stock.\n",
      "\n",
      "**3. Keep Trees Clean:**\n",
      "\n",
      "* Regularly remove fallen leaves and fruit from around the base of your trees. This helps prevent the disease from spreading.\n",
      "\n",
      "**4. Avoid Overcrowding:**\n",
      "\n",
      "* Give your orange trees enough space to grow.  Crowded trees have poor air circulation, which makes them more vulnerable to diseases.\n",
      "\n",
      "**5. Proper Watering:**\n",
      "\n",
      "* Water your trees deeply but infrequently. Avoid overhead watering, as water droplets can spread the disease.\n",
      "\n",
      "**6. Avoid Injury:**\n",
      "\n",
      "* Handle your trees carefully to avoid damaging the bark. Cuts and wounds can provide entry points for the disease.\n",
      "\n",
      "**7. Copper-Based Sprays:**\n",
      "\n",
      "*  Ask your local agricultural officer about copper-based fungicides. These can be applied as a preventive measure, especially during the summer months when the disease is more active. **Always follow instructions carefully** and use protective gear.\n",
      "\n",
      "**8. Early Detection:**\n",
      "\n",
      "*  Learn to recognize the symptoms of mangu: small, dark spots on leaves, fruits, and twigs. If you see any signs, isolate the affected trees and consult your agricultural officer immediately.\n",
      "\n",
      "Remember, prevention is key to managing mangu. By following these practices, you can help keep your orange trees healthy and productive. \n",
      "\n",
      "\n",
      "\n"
     ]
    }
   ],
   "source": [
    "response = chain.run(\n",
    "    question=\"How can I prevent mangu \",\n",
    "    location=\"Nalgonda, India\",\n",
    "    crop=\"orange\",\n",
    "    season=\"Summer\"\n",
    ")\n",
    "\n",
    "print(response)\n"
   ]
  },
  {
   "cell_type": "code",
   "execution_count": 22,
   "metadata": {},
   "outputs": [
    {
     "name": "stdout",
     "output_type": "stream",
     "text": [
      "You are an expert agriculture assistant helping farmers with their queries. Provide a detailed yet simple answer for the given question.\n",
      "\n",
      "📌 **Farmer's Question:** How can I prevent pests in my tomato crop?\n",
      "📍 **Location:** Maharashtra, India\n",
      "🌾 **Crop Type:** Tomato\n",
      "🗓 **Current Season:** Summer\n",
      "\n",
      "### 🌱 Problem Analysis\n",
      "1️⃣ **Possible Reasons:**\n",
      "- Identify the key reasons causing this issue.\n",
      "- Mention environmental, soil, or pest-related causes if relevant.\n",
      "\n",
      "2️⃣ **Solution Approach:**\n",
      "- Provide practical and actionable steps to resolve the issue.\n",
      "- Include organic and chemical solutions if applicable.\n",
      "\n",
      "3️⃣ **Preventive Measures:**\n",
      "- Suggest best farming practices to avoid this issue in the future.\n",
      "- Mention crop rotation, irrigation techniques, or natural remedies.\n",
      "\n",
      "4️⃣ **Expert Tips:**\n",
      "- Provide any additional insights from agricultural experts.\n",
      "- Mention tools, fertilizers, or techniques that could be useful.\n",
      "\n",
      "📢 Provide your response in **simple and easy-to-understand** language so that farmers can easily apply the solution.\n"
     ]
    }
   ],
   "source": [
    "from langchain.prompts import PromptTemplate\n",
    "\n",
    "agriculture_prompt = PromptTemplate(\n",
    "    input_variables=[\"question\", \"location\", \"crop\", \"season\"],\n",
    "    template=(\n",
    "        \"You are an expert agriculture assistant helping farmers with their queries. \"\n",
    "        \"Provide a detailed yet simple answer for the given question.\\n\\n\"\n",
    "        \"📌 **Farmer's Question:** {question}\\n\"\n",
    "        \"📍 **Location:** {location}\\n\"\n",
    "        \"🌾 **Crop Type:** {crop}\\n\"\n",
    "        \"🗓 **Current Season:** {season}\\n\\n\"\n",
    "        \"### 🌱 Problem Analysis\\n\"\n",
    "        \"1️⃣ **Possible Reasons:**\\n\"\n",
    "        \"- Identify the key reasons causing this issue.\\n\"\n",
    "        \"- Mention environmental, soil, or pest-related causes if relevant.\\n\\n\"\n",
    "        \"2️⃣ **Solution Approach:**\\n\"\n",
    "        \"- Provide practical and actionable steps to resolve the issue.\\n\"\n",
    "        \"- Include organic and chemical solutions if applicable.\\n\\n\"\n",
    "        \"3️⃣ **Preventive Measures:**\\n\"\n",
    "        \"- Suggest best farming practices to avoid this issue in the future.\\n\"\n",
    "        \"- Mention crop rotation, irrigation techniques, or natural remedies.\\n\\n\"\n",
    "        \"4️⃣ **Expert Tips:**\\n\"\n",
    "        \"- Provide any additional insights from agricultural experts.\\n\"\n",
    "        \"- Mention tools, fertilizers, or techniques that could be useful.\\n\\n\"\n",
    "        \"📢 Provide your response in **simple and easy-to-understand** language \"\n",
    "        \"so that farmers can easily apply the solution.\"\n",
    "    )\n",
    ")\n",
    "\n",
    "# Example usage:\n",
    "query = agriculture_prompt.format(\n",
    "    question=\"How can I prevent pests in my tomato crop?\",\n",
    "    location=\"Maharashtra, India\",\n",
    "    crop=\"Tomato\",\n",
    "    season=\"Summer\"\n",
    ")\n",
    "\n",
    "print(query)\n"
   ]
  },
  {
   "cell_type": "code",
   "execution_count": 23,
   "metadata": {},
   "outputs": [],
   "source": [
    "chain=LLMChain(llm=llm,prompt=agriculture_prompt)"
   ]
  },
  {
   "cell_type": "code",
   "execution_count": 26,
   "metadata": {},
   "outputs": [
    {
     "name": "stdout",
     "output_type": "stream",
     "text": [
      "##  Keeping Pests Away from Your Tomatoes in Maharashtra's Summer\n",
      "\n",
      "Hello!  Summer in Maharashtra can be tough on tomatoes, especially with all the pests that come along.  Don't worry, here's how to protect your crop:\n",
      "\n",
      "**1.  What's Bugging Your Tomatoes?**\n",
      "\n",
      "* **Aphids:** Tiny green or black bugs sucking sap from leaves. They make your plants weak.\n",
      "* **Whiteflies:** Tiny, white, flying insects that also suck sap. They can make leaves yellow and drop.\n",
      "* **Fruitworms:** Caterpillars that eat into your tomatoes. \n",
      "* **Cutworms:** These fat, grey caterpillars cut off young tomato plants at the base.\n",
      "\n",
      "**2.  Fighting Back!**\n",
      "\n",
      "* **For Aphids & Whiteflies:**\n",
      "\n",
      "    * **Neem Oil:** Mix neem oil with water and spray on your plants. It's a natural insecticide that keeps these pests away.\n",
      "    * **Soap Spray:** Mix a little soap with water and spray it on your plants. This can also help control these small pests.\n",
      "* **For Fruitworms:**\n",
      "\n",
      "    * **Traps:**  Set up sticky traps near your tomato plants to catch adult moths.\n",
      "    * **Handpicking:**  Check your plants daily and remove any caterpillars you find.\n",
      "* **For Cutworms:**\n",
      "\n",
      "    * **Protect Young Plants:** Wrap the base of young plants with cardboard collars to prevent cutworms from reaching them.\n",
      "\n",
      "**3.  Prevention is Key!**\n",
      "\n",
      "* **Healthy Soil:** Use compost to improve your soil. Healthy soil makes strong plants that are less likely to be attacked by pests.\n",
      "* **Crop Rotation:** Don't plant tomatoes in the same place year after year. Rotate with other crops like beans or corn.\n",
      "* **Companion Planting:** Plant basil, marigolds, or onions near your tomatoes. They can help repel pests naturally.\n",
      "* **Proper Watering:** Don't overwater your tomatoes, as this can attract pests. Water deeply but infrequently.\n",
      "* **Monitor Regularly:**  Check your plants often for signs of pests. Early detection is key to stopping an infestation!\n",
      "\n",
      "**4.  Expert Tips:**\n",
      "\n",
      "* **Contact your local agricultural extension office:** They can provide specific advice for your region.\n",
      "* **Learn about Integrated Pest Management (IPM):** This approach combines different pest control methods, including natural ones, to minimize harm to the environment.\n",
      "\n",
      "\n",
      "Remember, protecting your tomato crop takes a little effort, but with these tips, you can enjoy a bountiful harvest!\n",
      "\n"
     ]
    }
   ],
   "source": [
    "# Run the chain with inputs\n",
    "response = chain.run(\n",
    "    question=\"How can I prevent pests in my tomato crop?\",\n",
    "    location=\"Maharashtra, India\",\n",
    "    crop=\"Tomato\",\n",
    "    season=\"Summer\"\n",
    ")\n",
    "\n",
    "print(response)\n"
   ]
  },
  {
   "cell_type": "code",
   "execution_count": 27,
   "metadata": {},
   "outputs": [],
   "source": [
    "from langchain.prompts import PromptTemplate\n",
    "\n",
    "crop_disease_prompt = PromptTemplate(\n",
    "    input_variables=[\"symptoms\", \"crop\", \"location\", \"season\"],\n",
    "    template=(\n",
    "        \"You are an expert plant pathologist assisting farmers in diagnosing crop diseases.\\n\\n\"\n",
    "        \"📌 **Farmer's Observation:** {symptoms}\\n\"\n",
    "        \"🌱 **Crop:** {crop}\\n\"\n",
    "        \"📍 **Location:** {location}\\n\"\n",
    "        \"🗓 **Current Season:** {season}\\n\\n\"\n",
    "        \"### 🦠 Possible Disease(s) and Causes:\\n\"\n",
    "        \"- Analyze the symptoms and identify possible diseases.\\n\"\n",
    "        \"- Mention environmental and pest-related causes.\\n\\n\"\n",
    "        \"### 💊 Treatment & Remedies:\\n\"\n",
    "        \"- Suggest **organic** and **chemical** treatments.\\n\"\n",
    "        \"- Recommend suitable pesticides or fungicides (if needed).\\n\\n\"\n",
    "        \"### 🛡 Preventive Measures:\\n\"\n",
    "        \"- Guide the farmer on crop rotation, irrigation, and soil treatment.\\n\"\n",
    "        \"- Suggest resistant crop varieties if available.\\n\\n\"\n",
    "        \"Provide clear, easy-to-follow instructions that farmers can apply practically.\"\n",
    "    )\n",
    ")\n"
   ]
  },
  {
   "cell_type": "code",
   "execution_count": 28,
   "metadata": {},
   "outputs": [],
   "source": [
    "chain=LLMChain(llm=llm,prompt=crop_disease_prompt)"
   ]
  },
  {
   "cell_type": "code",
   "execution_count": 34,
   "metadata": {},
   "outputs": [
    {
     "name": "stdout",
     "output_type": "stream",
     "text": [
      "##  Yellow Spots on Tomato Leaves: A Guide for Punjab Farmers\n",
      "\n",
      "**Possible Diseases:**\n",
      "\n",
      "Based on your observation of yellow spots on tomato leaves and stunted growth during summer in Punjab, here are some possible diseases:\n",
      "\n",
      "* **Early Blight (Alternaria solani):** This fungal disease is very common in tomato during hot and humid weather. It causes small, brown, target-like lesions with yellow halos on the lower leaves, eventually spreading upwards. \n",
      "* **Septoria Leaf Spot (Septoria lycopersici):** Another fungal disease, Septoria leaf spot appears as small, circular, dark brown to black spots with yellow halos on the leaves. \n",
      "* **Tomato Mosaic Virus (ToMV):** This viral disease can cause mosaic patterns (yellowing and greening) on leaves, stunted growth, and fruit deformities.\n",
      "\n",
      "**Environmental & Pest-related Causes:**\n",
      "\n",
      "* **High humidity and temperatures:** Both early blight and septoria leaf spot thrive in warm, humid conditions common in Punjab summers.\n",
      "* **Overwatering:** Excessive watering can create ideal conditions for fungal diseases.\n",
      "* **Poor air circulation:** Dense planting or lack of pruning can hinder air flow, promoting fungal growth.\n",
      "\n",
      "**Treatment & Remedies:**\n",
      "\n",
      "**Organic Options:**\n",
      "\n",
      "* **Neem oil:** Mix 2-3 teaspoons of neem oil with 1 liter of water and spray on affected plants. Neem oil has antifungal and insecticidal properties.\n",
      "* **Copper fungicide:** Apply a copper-based fungicide according to label instructions.\n",
      "\n",
      "**Chemical Options:**\n",
      "\n",
      "* **Mancozeb:** This fungicide is effective against early blight and septoria leaf spot.\n",
      "* **Chlorothalonil:** Another broad-spectrum fungicide that can be used.\n",
      "\n",
      "**Always follow label instructions for application rates and safety precautions.**\n",
      "\n",
      "**Preventive Measures:**\n",
      "\n",
      "* **Crop rotation:** Avoid planting tomatoes in the same field year after year. \n",
      "* **Proper irrigation:** Water deeply but infrequently, ensuring good drainage. \n",
      "* **Ensure good air circulation:** Space plants adequately and prune suckers to improve airflow.\n",
      "* **Resistant varieties:** Choose tomato varieties resistant to early blight and septoria leaf spot. Ask your local agricultural extension office for recommendations.\n",
      "* **Healthy soil:**  Conduct soil tests and amend as needed.\n",
      "\n",
      "**Additional Tips:**\n",
      "\n",
      "* **Monitor your plants regularly.** Early detection and intervention are crucial for managing diseases.\n",
      "* **Remove infected leaves and dispose of them properly.** This helps prevent the spread of disease.\n",
      "* **Consider consulting a plant pathologist for a definitive diagnosis and tailored advice.**\n",
      "\n",
      "\n",
      "Remember, a healthy crop starts with a healthy soil and proper management practices. \n",
      "\n",
      "\n",
      "\n"
     ]
    }
   ],
   "source": [
    "response = chain.run(\n",
    "    symptoms=\"Yellow spots on leaves, stunted growth.\",\n",
    "    crop=\"Tomato\",\n",
    "    location=\"Punjab, India\",\n",
    "    season=\"Summer\"\n",
    ")\n",
    "print(response)"
   ]
  },
  {
   "cell_type": "code",
   "execution_count": 35,
   "metadata": {},
   "outputs": [],
   "source": [
    "from langchain.prompts import PromptTemplate\n",
    "\n",
    "soil_health_prompt = PromptTemplate(\n",
    "    input_variables=[\"soil_type\", \"pH\", \"nutrient_levels\", \"crop\"],\n",
    "    template=(\n",
    "        \"You are a soil scientist helping farmers analyze soil health and recommend fertilizers.\\n\\n\"\n",
    "        \"🧪 **Soil Type:** {soil_type}\\n\"\n",
    "        \"📉 **pH Level:** {pH}\\n\"\n",
    "        \"🌱 **Nutrient Levels (NPK & others):** {nutrient_levels}\\n\"\n",
    "        \"🌾 **Crop Being Grown:** {crop}\\n\\n\"\n",
    "        \"### 🏜 Soil Health Analysis:\\n\"\n",
    "        \"- Explain the current condition of the soil.\\n\"\n",
    "        \"- Identify deficiencies or imbalances.\\n\\n\"\n",
    "        \"### 💊 Fertilizer & Soil Treatment Recommendations:\\n\"\n",
    "        \"- Suggest suitable **organic** and **chemical** fertilizers.\\n\"\n",
    "        \"- Mention appropriate dosages and application frequency.\\n\\n\"\n",
    "        \"### 🌿 Long-Term Soil Improvement:\\n\"\n",
    "        \"- Recommend crop rotation strategies.\\n\"\n",
    "        \"- Suggest composting or natural soil enrichment techniques.\\n\"\n",
    "        \"Provide advice in an **easy-to-follow** format for farmers.\"\n",
    "    )\n",
    ")\n"
   ]
  },
  {
   "cell_type": "code",
   "execution_count": 36,
   "metadata": {},
   "outputs": [],
   "source": [
    "chain=LLMChain(llm=llm,prompt=soil_health_prompt)"
   ]
  },
  {
   "cell_type": "code",
   "execution_count": 38,
   "metadata": {},
   "outputs": [
    {
     "name": "stdout",
     "output_type": "stream",
     "text": [
      "## Your Tomato Soil Check-Up:\n",
      "\n",
      "**Current Condition:**\n",
      "\n",
      "Your loamy soil is a great foundation for tomatoes! It's well-draining and holds moisture nicely. The pH of 6.2 is also ideal for tomato growth. \n",
      "\n",
      "**Nutrient Needs:**\n",
      "\n",
      "Your soil is a bit low on nitrogen, which is essential for leafy growth and overall plant vigor. Phosphorus levels are moderate, good for root development and flowering.\n",
      "\n",
      "**Fertilizer & Treatment Recommendations:**\n",
      "\n",
      "**Organic Options:**\n",
      "\n",
      "* **Compost:** This is a powerhouse! Mix in 2-3 inches of well-rotted compost before planting to boost all nutrients, improve soil structure, and feed beneficial microbes.\n",
      "* **Blood Meal:** High in nitrogen, apply 1-2 tablespoons per tomato plant every 4-6 weeks.\n",
      "* **Bone Meal:** Adds phosphorus and calcium, apply 1-2 tablespoons per plant at planting time and again in mid-season.\n",
      "\n",
      "**Chemical Options:**\n",
      "\n",
      "* **Granular NPK Fertilizer:** Look for an NPK ratio like 12-6-6. Apply 1-2 tablespoons per plant at planting time and again every 4-6 weeks.\n",
      "* **Liquid Nitrogen Fertilizer:**  Apply every 2-3 weeks during the growing season, following instructions on the label.\n",
      "\n",
      "**Important Note:**  Always apply fertilizers according to package instructions and avoid over-fertilizing, which can harm your plants. \n",
      "\n",
      "**Long-Term Soil Improvement:**\n",
      "\n",
      "* **Crop Rotation:**  Avoid planting tomatoes in the same spot year after year. Rotate with crops like beans, squash, or corn to replenish nutrients and break pest cycles.\n",
      "* **Cover Crops:** Plant clover or rye in the off-season to prevent erosion, suppress weeds, and fix nitrogen in the soil.\n",
      "\n",
      "By following these tips, you can keep your soil healthy and your tomatoes thriving!\n",
      "\n",
      "\n",
      "\n"
     ]
    }
   ],
   "source": [
    "response = chain.run(\n",
    "    soil_type=\"Loamy\",\n",
    "    pH=\"6.2\",\n",
    "    nutrient_levels=\"Low nitrogen, moderate phosphorus\",\n",
    "    crop=\"Tomato\"\n",
    ")\n",
    "print(response)"
   ]
  },
  {
   "cell_type": "code",
   "execution_count": null,
   "metadata": {},
   "outputs": [],
   "source": []
  }
 ],
 "metadata": {
  "kernelspec": {
   "display_name": "Python 3",
   "language": "python",
   "name": "python3"
  },
  "language_info": {
   "codemirror_mode": {
    "name": "ipython",
    "version": 3
   },
   "file_extension": ".py",
   "mimetype": "text/x-python",
   "name": "python",
   "nbconvert_exporter": "python",
   "pygments_lexer": "ipython3",
   "version": "3.10.0"
  }
 },
 "nbformat": 4,
 "nbformat_minor": 2
}
