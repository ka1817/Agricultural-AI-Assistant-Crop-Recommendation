{
 "cells": [
  {
   "cell_type": "markdown",
   "metadata": {},
   "source": [
    "With Random Forest"
   ]
  },
  {
   "cell_type": "code",
   "execution_count": null,
   "metadata": {},
   "outputs": [],
   "source": [
    "import pickle\n",
    "import pandas as pd\n",
    "\n",
    "model_path = r\"C:\\Users\\saipr\\Crop_Recommendation\\saved_models\\RF_Model.pkl\"\n",
    "\n",
    "with open(model_path, 'rb') as f:\n",
    "    rf_model = pickle.load(f)\n"
   ]
  },
  {
   "cell_type": "code",
   "execution_count": null,
   "metadata": {},
   "outputs": [
    {
     "name": "stdout",
     "output_type": "stream",
     "text": [
      "Predicted Crops: ['papaya' 'rice' 'rice']\n"
     ]
    }
   ],
   "source": [
    "# Example input data \n",
    "data = [\n",
    "    {\"N\": 56, \"P\": 48, \"K\": 28, \"temperature\": 28.5, \"humidity\": 89.0, \"ph\": 6.9, \"rainfall\": 220.0},\n",
    "    {\"N\": 64, \"P\": 55, \"K\": 33, \"temperature\": 22.0, \"humidity\": 78.0, \"ph\": 7.3, \"rainfall\": 200.0},\n",
    "    {\"N\": 98, \"P\": 47, \"K\": 49, \"temperature\": 22.8, \"humidity\": 89.0, \"ph\": 6.1, \"rainfall\": 202.9},\n",
    "]\n",
    "\n",
    "df = pd.DataFrame(data)\n",
    "\n",
    "rf_predictions = rf_model.predict(df)\n",
    "\n",
    "print(\"Predicted Crops:\", rf_predictions)"
   ]
  },
  {
   "cell_type": "markdown",
   "metadata": {},
   "source": [
    "## with SVC"
   ]
  },
  {
   "cell_type": "code",
   "execution_count": null,
   "metadata": {},
   "outputs": [],
   "source": [
    "import pickle\n",
    "import pandas as pd\n",
    "\n",
    "model_path = r\"C:\\Users\\saipr\\Crop_Recommendation\\saved_models\\svc_model.pkl\"\n",
    "\n",
    "with open(model_path, 'rb') as f:\n",
    "    svc_model = pickle.load(f)\n"
   ]
  },
  {
   "cell_type": "code",
   "execution_count": null,
   "metadata": {},
   "outputs": [
    {
     "name": "stdout",
     "output_type": "stream",
     "text": [
      "Predicted Crops: ['coffee' 'rice' 'rice']\n"
     ]
    }
   ],
   "source": [
    "data = [\n",
    "    {\"N\": 98, \"P\": 48, \"K\": 35, \"temperature\": 28.5, \"humidity\": 65.0, \"ph\": 6.9, \"rainfall\": 220.0},\n",
    "    {\"N\": 64, \"P\": 55, \"K\": 33, \"temperature\": 22.0, \"humidity\": 78.0, \"ph\": 7.3, \"rainfall\": 200.0},\n",
    "    {\"N\": 98, \"P\": 47, \"K\": 49, \"temperature\": 22.8, \"humidity\": 89.0, \"ph\": 6.1, \"rainfall\": 202.9},\n",
    "]\n",
    "\n",
    "df = pd.DataFrame(data)\n",
    "\n",
    "svc_predictions = svc_model.predict(df)\n",
    "\n",
    "print(\"Predicted Crops:\", svc_predictions)"
   ]
  },
  {
   "cell_type": "markdown",
   "metadata": {},
   "source": [
    "Gradient Boosting Model"
   ]
  },
  {
   "cell_type": "code",
   "execution_count": null,
   "metadata": {},
   "outputs": [],
   "source": [
    "import pickle\n",
    "import pandas as pd\n",
    "\n",
    "model_path = r\"C:\\Users\\saipr\\Crop_Recommendation\\saved_models\\gb_model.pkl\"\n",
    "\n",
    "with open(model_path, 'rb') as f:\n",
    "    gb_model = pickle.load(f)\n"
   ]
  },
  {
   "cell_type": "code",
   "execution_count": 19,
   "metadata": {},
   "outputs": [
    {
     "name": "stdout",
     "output_type": "stream",
     "text": [
      "Predicted Crops: ['maize' 'rice' 'rice']\n"
     ]
    }
   ],
   "source": [
    "data = [\n",
    "    {\"N\": 98, \"P\": 48, \"K\": 35, \"temperature\": 28.5, \"humidity\": 65.0, \"ph\": 6.9, \"rainfall\": 100.0},\n",
    "    {\"N\": 64, \"P\": 55, \"K\": 33, \"temperature\": 22.0, \"humidity\": 78.0, \"ph\": 7.3, \"rainfall\": 200.0},\n",
    "    {\"N\": 98, \"P\": 47, \"K\": 49, \"temperature\": 22.8, \"humidity\": 89.0, \"ph\": 6.1, \"rainfall\": 202.9},\n",
    "]\n",
    "\n",
    "df = pd.DataFrame(data)\n",
    "\n",
    "gb_predictions = gb_model.predict(df)\n",
    "\n",
    "print(\"Predicted Crops:\", gb_predictions)"
   ]
  },
  {
   "cell_type": "code",
   "execution_count": null,
   "metadata": {},
   "outputs": [],
   "source": []
  }
 ],
 "metadata": {
  "kernelspec": {
   "display_name": "Python 3",
   "language": "python",
   "name": "python3"
  },
  "language_info": {
   "codemirror_mode": {
    "name": "ipython",
    "version": 3
   },
   "file_extension": ".py",
   "mimetype": "text/x-python",
   "name": "python",
   "nbconvert_exporter": "python",
   "pygments_lexer": "ipython3",
   "version": "3.10.0"
  }
 },
 "nbformat": 4,
 "nbformat_minor": 2
}
